{
 "cells": [
  {
   "cell_type": "code",
   "execution_count": 1,
   "metadata": {},
   "outputs": [],
   "source": [
    "import os"
   ]
  },
  {
   "cell_type": "code",
   "execution_count": 2,
   "metadata": {},
   "outputs": [
    {
     "data": {
      "text/plain": [
       "['Untitled.ipynb',\n",
       " 'supermarkets.json',\n",
       " 'supermarkets.csv',\n",
       " 'supermarkets-semi-colons.txt',\n",
       " 'supermarkets.xlsx',\n",
       " '.ipynb_checkpoints',\n",
       " 'supermarkets-commas.txt']"
      ]
     },
     "execution_count": 2,
     "metadata": {},
     "output_type": "execute_result"
    }
   ],
   "source": [
    "os.listdir()"
   ]
  },
  {
   "cell_type": "code",
   "execution_count": 6,
   "metadata": {},
   "outputs": [],
   "source": [
    "import pandas as pd"
   ]
  },
  {
   "cell_type": "code",
   "execution_count": 16,
   "metadata": {},
   "outputs": [
    {
     "ename": "SyntaxError",
     "evalue": "invalid syntax (<ipython-input-16-53d08225ac50>, line 5)",
     "output_type": "error",
     "traceback": [
      "\u001b[0;36m  File \u001b[0;32m\"<ipython-input-16-53d08225ac50>\"\u001b[0;36m, line \u001b[0;32m5\u001b[0m\n\u001b[0;31m    df5 = pd.read_csv(\"supermarkets-semi-colons.text\", sep\":\")\u001b[0m\n\u001b[0m                                                            ^\u001b[0m\n\u001b[0;31mSyntaxError\u001b[0m\u001b[0;31m:\u001b[0m invalid syntax\n"
     ]
    }
   ],
   "source": [
    "df1 = pd.read_csv(\"supermarkets.csv\")\n",
    "df2 = pd.read_json(\"supermarkets.json\")\n",
    "df3 = pd.read_excel(\"supermarkets.xlsx\")\n",
    "df4 = pd.read_csv(\"supermarkets-commas.txt\")\n",
    "df5 = pd.read_csv(\"supermarkets-semi-colons.text\", sep\";\")"
   ]
  },
  {
   "cell_type": "code",
   "execution_count": 17,
   "metadata": {},
   "outputs": [
    {
     "name": "stdout",
     "output_type": "stream",
     "text": [
      "   ID          Address           City             State Country         Name  \\\n",
      "0   1     3666 21st St  San Francisco          CA 94114     USA      Madeira   \n",
      "1   2   735 Dolores St  San Francisco          CA 94119     USA  Bready Shop   \n",
      "2   3      332 Hill St  San Francisco  California 94114     USA  Super River   \n",
      "3   4     3995 23rd St  San Francisco          CA 94114     USA   Ben's Shop   \n",
      "4   5  1056 Sanchez St  San Francisco        California     USA      Sanchez   \n",
      "5   6  551 Alvarado St  San Francisco          CA 94114     USA   Richvalley   \n",
      "\n",
      "   Employees  \n",
      "0          8  \n",
      "1         15  \n",
      "2         25  \n",
      "3         10  \n",
      "4         12  \n",
      "5         20  \n",
      "   ID          Address           City             State Country         Name  \\\n",
      "0   1     3666 21st St  San Francisco          CA 94114     USA      Madeira   \n",
      "1   2   735 Dolores St  San Francisco          CA 94119     USA  Bready Shop   \n",
      "2   3      332 Hill St  San Francisco  California 94114     USA  Super River   \n",
      "3   4     3995 23rd St  San Francisco          CA 94114     USA   Ben's Shop   \n",
      "4   5  1056 Sanchez St  San Francisco        California     USA      Sanchez   \n",
      "5   6  551 Alvarado St  San Francisco          CA 94114     USA   Richvalley   \n",
      "\n",
      "   Employees  \n",
      "0          8  \n",
      "1         15  \n",
      "2         25  \n",
      "3         10  \n",
      "4         12  \n",
      "5         20  \n",
      "   ID          Address           City             State Country  \\\n",
      "0   1     3666 21st St  San Francisco          CA 94114     USA   \n",
      "1   2   735 Dolores St  San Francisco          CA 94119     USA   \n",
      "2   3      332 Hill St  San Francisco  California 94114     USA   \n",
      "3   4     3995 23rd St  San Francisco          CA 94114     USA   \n",
      "4   5  1056 Sanchez St  San Francisco        California     USA   \n",
      "5   6  551 Alvarado St  San Francisco          CA 94114     USA   \n",
      "\n",
      "  Supermarket Name  Number of Employees  \n",
      "0          Madeira                    8  \n",
      "1      Bready Shop                   15  \n",
      "2      Super River                   25  \n",
      "3       Ben's Shop                   10  \n",
      "4          Sanchez                   12  \n",
      "5       Richvalley                   20  \n"
     ]
    },
    {
     "ename": "NameError",
     "evalue": "name 'df4' is not defined",
     "output_type": "error",
     "traceback": [
      "\u001b[0;31m---------------------------------------------------------------------------\u001b[0m",
      "\u001b[0;31mNameError\u001b[0m                                 Traceback (most recent call last)",
      "\u001b[0;32m<ipython-input-17-5261fbf3961a>\u001b[0m in \u001b[0;36m<module>\u001b[0;34m\u001b[0m\n\u001b[1;32m      2\u001b[0m \u001b[0mprint\u001b[0m\u001b[0;34m(\u001b[0m\u001b[0mdf2\u001b[0m\u001b[0;34m)\u001b[0m\u001b[0;34m\u001b[0m\u001b[0;34m\u001b[0m\u001b[0m\n\u001b[1;32m      3\u001b[0m \u001b[0mprint\u001b[0m\u001b[0;34m(\u001b[0m\u001b[0mdf3\u001b[0m\u001b[0;34m)\u001b[0m\u001b[0;34m\u001b[0m\u001b[0;34m\u001b[0m\u001b[0m\n\u001b[0;32m----> 4\u001b[0;31m \u001b[0mprint\u001b[0m\u001b[0;34m(\u001b[0m\u001b[0mdf4\u001b[0m\u001b[0;34m)\u001b[0m\u001b[0;34m\u001b[0m\u001b[0;34m\u001b[0m\u001b[0m\n\u001b[0m\u001b[1;32m      5\u001b[0m \u001b[0mprint\u001b[0m\u001b[0;34m(\u001b[0m\u001b[0mdf5\u001b[0m\u001b[0;34m)\u001b[0m\u001b[0;34m\u001b[0m\u001b[0;34m\u001b[0m\u001b[0m\n",
      "\u001b[0;31mNameError\u001b[0m: name 'df4' is not defined"
     ]
    }
   ],
   "source": [
    "print(df1)\n",
    "print(df2)\n",
    "print(df3)\n",
    "print(df4)\n",
    "print(df5)"
   ]
  },
  {
   "cell_type": "code",
   "execution_count": null,
   "metadata": {},
   "outputs": [],
   "source": []
  }
 ],
 "metadata": {
  "kernelspec": {
   "display_name": "Python 3",
   "language": "python",
   "name": "python3"
  },
  "language_info": {
   "codemirror_mode": {
    "name": "ipython",
    "version": 3
   },
   "file_extension": ".py",
   "mimetype": "text/x-python",
   "name": "python",
   "nbconvert_exporter": "python",
   "pygments_lexer": "ipython3",
   "version": "3.7.4"
  }
 },
 "nbformat": 4,
 "nbformat_minor": 2
}
